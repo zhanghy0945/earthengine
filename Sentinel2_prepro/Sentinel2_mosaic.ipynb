{
 "cells": [
  {
   "cell_type": "code",
   "execution_count": 1,
   "id": "d4707e2b",
   "metadata": {},
   "outputs": [
    {
     "data": {
      "text/html": [
       "<p>To authorize access needed by Earth Engine, open the following\n",
       "        URL in a web browser and follow the instructions:</p>\n",
       "        <p><a href=https://code.earthengine.google.com/client-auth?scopes=https%3A//www.googleapis.com/auth/earthengine%20https%3A//www.googleapis.com/auth/devstorage.full_control&request_id=BVsdoZiuBcky30oWEmck0SzkpUmGK0i4STEGK7uoECY&tc=ZJINOC3QuTw9d95kgiS0UgXMfn_2ARcSst5otcm9BHo&cc=iBpwme_dEO1BfHPxrhzCShYA4O0iEsZdTTlByAJLCDY>https://code.earthengine.google.com/client-auth?scopes=https%3A//www.googleapis.com/auth/earthengine%20https%3A//www.googleapis.com/auth/devstorage.full_control&request_id=BVsdoZiuBcky30oWEmck0SzkpUmGK0i4STEGK7uoECY&tc=ZJINOC3QuTw9d95kgiS0UgXMfn_2ARcSst5otcm9BHo&cc=iBpwme_dEO1BfHPxrhzCShYA4O0iEsZdTTlByAJLCDY</a></p>\n",
       "        <p>The authorization workflow will generate a code, which you should paste in the box below.</p>\n",
       "        "
      ],
      "text/plain": [
       "<IPython.core.display.HTML object>"
      ]
     },
     "metadata": {},
     "output_type": "display_data"
    },
    {
     "name": "stdout",
     "output_type": "stream",
     "text": [
      "Enter verification code: 4/1AfJohXlcHP80n9QHU9F0StQsEAmeH9dX06q2tLe8G49BQqsZL03Rq1sm0f8\n",
      "\n",
      "Successfully saved authorization token.\n"
     ]
    }
   ],
   "source": [
    "import ee\n",
    "import geemap as gmp\n",
    "ee.Authenticate()"
   ]
  },
  {
   "cell_type": "code",
   "execution_count": 2,
   "id": "c381e34d",
   "metadata": {},
   "outputs": [
    {
     "data": {
      "text/html": [
       "\n",
       "            <style>\n",
       "                .geemap-dark {\n",
       "                    --jp-widgets-color: white;\n",
       "                    --jp-widgets-label-color: white;\n",
       "                    --jp-ui-font-color1: white;\n",
       "                    --jp-layout-color2: #454545;\n",
       "                    background-color: #383838;\n",
       "                }\n",
       "                    \n",
       "                .geemap-dark .jupyter-button {\n",
       "                    --jp-layout-color3: #383838;\n",
       "                }\n",
       "                \n",
       "                .geemap-colab {\n",
       "                    background-color: var(--colab-primary-surface-color, white);\n",
       "                }\n",
       "                    \n",
       "                .geemap-colab .jupyter-button {\n",
       "                    --jp-layout-color3: var(--colab-primary-surface-color, white);\n",
       "                }\n",
       "            </style>\n",
       "            "
      ],
      "text/plain": [
       "<IPython.core.display.HTML object>"
      ]
     },
     "metadata": {},
     "output_type": "display_data"
    },
    {
     "name": "stdout",
     "output_type": "stream",
     "text": [
      "OK!\n"
     ]
    },
    {
     "name": "stderr",
     "output_type": "stream",
     "text": [
      "*** Earth Engine *** Share your feedback by taking our Annual Developer Satisfaction Survey: https://google.qualtrics.com/jfe/form/SV_doiqkQG3NJ1t8IS?source=API\n"
     ]
    }
   ],
   "source": [
    "ee.Initialize()\n",
    "print (\"OK!\")"
   ]
  },
  {
   "cell_type": "code",
   "execution_count": 3,
   "id": "ef979508",
   "metadata": {},
   "outputs": [
    {
     "data": {
      "text/html": [
       "\n",
       "            <style>\n",
       "                .geemap-dark {\n",
       "                    --jp-widgets-color: white;\n",
       "                    --jp-widgets-label-color: white;\n",
       "                    --jp-ui-font-color1: white;\n",
       "                    --jp-layout-color2: #454545;\n",
       "                    background-color: #383838;\n",
       "                }\n",
       "                    \n",
       "                .geemap-dark .jupyter-button {\n",
       "                    --jp-layout-color3: #383838;\n",
       "                }\n",
       "                \n",
       "                .geemap-colab {\n",
       "                    background-color: var(--colab-primary-surface-color, white);\n",
       "                }\n",
       "                    \n",
       "                .geemap-colab .jupyter-button {\n",
       "                    --jp-layout-color3: var(--colab-primary-surface-color, white);\n",
       "                }\n",
       "            </style>\n",
       "            "
      ],
      "text/plain": [
       "<IPython.core.display.HTML object>"
      ]
     },
     "metadata": {},
     "output_type": "display_data"
    },
    {
     "data": {
      "application/vnd.jupyter.widget-view+json": {
       "model_id": "fdf01e5bce634ea7998a62027dbc7547",
       "version_major": 2,
       "version_minor": 0
      },
      "text/plain": [
       "Map(center=[37.448, -122.373], controls=(WidgetControl(options=['position', 'transparent_bg'], widget=SearchDa…"
      ]
     },
     "execution_count": 3,
     "metadata": {},
     "output_type": "execute_result"
    }
   ],
   "source": [
    "# Sentinel-2 image collection for July 2021 intersecting a point of interest.\n",
    "# Reflectance, cloud probability, and scene classification bands are selected.\n",
    "col = (\n",
    "    ee.ImageCollection('COPERNICUS/S2_SR')\n",
    "    .filterDate('2021-07-01', '2021-08-01')\n",
    "    .filterBounds(ee.Geometry.Point(-122.373, 37.448))\n",
    "    .select('B.*|MSK_CLDPRB|SCL')\n",
    ")\n",
    "\n",
    "# Visualization parameters for reflectance RGB.\n",
    "vis_refl = {'bands': ['B11', 'B8', 'B3'], 'min': 0, 'max': 4000}\n",
    "m = gmp.Map()\n",
    "m.set_center(-122.373, 37.448, 9)\n",
    "m.add_layer(col, vis_refl, 'Collection reference', False)\n",
    "\n",
    "# Reduce the collection to a single image using a variety of methods.\n",
    "mean = col.mean()\n",
    "m.add_layer(mean, vis_refl, 'Mean (B11, B8, B3)')\n",
    "\n",
    "median = col.median()\n",
    "m.add_layer(median, vis_refl, 'Median (B11, B8, B3)')\n",
    "\n",
    "min = col.min()\n",
    "m.add_layer(min, vis_refl, 'Min (B11, B8, B3)')\n",
    "\n",
    "max = col.max()\n",
    "m.add_layer(max, vis_refl, 'Max (B11, B8, B3)')\n",
    "\n",
    "sum = col.sum()\n",
    "m.add_layer(\n",
    "    sum, {'bands': ['MSK_CLDPRB'], 'min': 0, 'max': 500}, 'Sum (MSK_CLDPRB)'\n",
    ")\n",
    "\n",
    "product = col.product()\n",
    "m.add_layer(\n",
    "    product,\n",
    "    {'bands': ['MSK_CLDPRB'], 'min': 0, 'max': 1e10},\n",
    "    'Product (MSK_CLDPRB)',\n",
    ")\n",
    "\n",
    "# ee.ImageCollection.mode returns the most common value. If multiple mode\n",
    "# values occur, the minimum mode value is returned.\n",
    "mode = col.mode()\n",
    "m.add_layer(\n",
    "    mode, {'bands': ['SCL'], 'min': 1, 'max': 11}, 'Mode (pixel class)'\n",
    ")\n",
    "\n",
    "# ee.ImageCollection.count returns the frequency of valid observations. Here,\n",
    "# image pixels are masked based on cloud probability to add valid observation\n",
    "# variability to the collection. Note that pixels with no valid observations\n",
    "# are masked out of the returned image.\n",
    "not_cloud_col = col.map(\n",
    "    lambda img: img.updateMask(img.select('MSK_CLDPRB').lte(10))\n",
    ")\n",
    "count = not_cloud_col.count()\n",
    "m.add_layer(count, {'min': 1, 'max': 5}, 'Count (not cloud observations)')\n",
    "\n",
    "# ee.ImageCollection.mosaic composites images according to their position in\n",
    "# the collection (priority is last to first) and pixel mask status, where\n",
    "# invalid (mask value 0) pixels are filled by preceding valid (mask value >0)\n",
    "# pixels.\n",
    "mosaic = not_cloud_col.mosaic()\n",
    "m.add_layer(mosaic, vis_refl, 'Mosaic (B11, B8, B3)')\n",
    "m"
   ]
  },
  {
   "cell_type": "code",
   "execution_count": null,
   "id": "f55bceea",
   "metadata": {},
   "outputs": [],
   "source": []
  }
 ],
 "metadata": {
  "kernelspec": {
   "display_name": "Python 3 (ipykernel)",
   "language": "python",
   "name": "python3"
  },
  "language_info": {
   "codemirror_mode": {
    "name": "ipython",
    "version": 3
   },
   "file_extension": ".py",
   "mimetype": "text/x-python",
   "name": "python",
   "nbconvert_exporter": "python",
   "pygments_lexer": "ipython3",
   "version": "3.10.13"
  },
  "varInspector": {
   "cols": {
    "lenName": 16,
    "lenType": 16,
    "lenVar": 40
   },
   "kernels_config": {
    "python": {
     "delete_cmd_postfix": "",
     "delete_cmd_prefix": "del ",
     "library": "var_list.py",
     "varRefreshCmd": "print(var_dic_list())"
    },
    "r": {
     "delete_cmd_postfix": ") ",
     "delete_cmd_prefix": "rm(",
     "library": "var_list.r",
     "varRefreshCmd": "cat(var_dic_list()) "
    }
   },
   "types_to_exclude": [
    "module",
    "function",
    "builtin_function_or_method",
    "instance",
    "_Feature"
   ],
   "window_display": false
  }
 },
 "nbformat": 4,
 "nbformat_minor": 5
}
